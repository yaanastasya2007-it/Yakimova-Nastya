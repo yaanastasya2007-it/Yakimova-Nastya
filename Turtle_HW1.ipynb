{
 "cells": [
  {
   "cell_type": "code",
   "execution_count": 2,
   "id": "a18f02d6-d412-45b1-8d0c-e53c73667af2",
   "metadata": {},
   "outputs": [],
   "source": [
    "import turtle  \n",
    "\n",
    " \n",
    "a = -4\n",
    "b = 4\n",
    "turtle.pensize(2)\n",
    " \n",
    "\n",
    "turtle.color(\"orange\")\n",
    "turtle.begin_fill()\n",
    "turtle.up()\n",
    "turtle.goto(70*a,10*b)\n",
    "turtle.down()\n",
    "turtle.goto(90*a,20*b)\n",
    "turtle.goto(95*a,35*b)\n",
    "turtle.goto(80*a,30*b)\n",
    "turtle.goto(80*a,40*b)\n",
    "turtle.goto(70*a,40*b)\n",
    "turtle.goto(90*a,60*b)\n",
    "turtle.goto(80*a,60*b)\n",
    "turtle.goto(60*a,50*b)\n",
    "turtle.goto(30*a,60*b)\n",
    "turtle.goto(20*a,40*b)\n",
    "turtle.goto(30*a,50*b)\n",
    "turtle.goto(40*a,40*b)\n",
    "turtle.goto(30*a,30*b)\n",
    "turtle.goto(20*a,20*b)\n",
    "turtle.goto(-40*a,20*b)\n",
    "turtle.goto(-50*a,50*b)\n",
    "turtle.goto(-40*a,70*b)\n",
    "turtle.goto(-60*a,70*b)\n",
    "turtle.goto(-70*a,50*b)\n",
    "turtle.goto(-60*a,10*b)\n",
    "turtle.goto(-70*a,-60*b)\n",
    "turtle.goto(-40*a,-60*b)\n",
    "turtle.goto(-35*a,-30*b)\n",
    "turtle.goto(35*a,-30*b)\n",
    "turtle.goto(30*a,-60*b)\n",
    "turtle.goto(60*a,-60*b)\n",
    "turtle.goto(70*a,10*b)\n",
    "turtle.end_fill()\n",
    " \n",
    "turtle.color(\"black\")\n",
    "turtle.begin_fill()\n",
    "turtle.up()\n",
    "turtle.goto(70*a,30*b)\n",
    "turtle.down()\n",
    "turtle.circle(2*a,360)\n",
    "turtle.end_fill()\n",
    " \n",
    "turtle.color(\"black\")\n",
    "turtle.begin_fill()\n",
    "turtle.up()\n",
    "turtle.goto(95*a,35*b)\n",
    "turtle.down()\n",
    "turtle.circle(2*a,360)\n",
    "turtle.end_fill()\n",
    " \n",
    " \n",
    "turtle.hideturtle()"
   ]
  },
  {
   "cell_type": "code",
   "execution_count": null,
   "id": "11a01cbc-1bf5-436c-84d0-34dbf17e38c9",
   "metadata": {},
   "outputs": [],
   "source": []
  },
  {
   "cell_type": "code",
   "execution_count": null,
   "id": "a80acf4d-092b-423e-a4d3-a9e905bf9b4d",
   "metadata": {},
   "outputs": [],
   "source": []
  },
  {
   "cell_type": "code",
   "execution_count": null,
   "id": "1479787f-9ff8-4143-8081-ba5e718dd8c3",
   "metadata": {},
   "outputs": [],
   "source": []
  },
  {
   "cell_type": "code",
   "execution_count": null,
   "id": "2dddea1f-9d22-4d51-93fa-fd4506263405",
   "metadata": {},
   "outputs": [],
   "source": []
  }
 ],
 "metadata": {
  "kernelspec": {
   "display_name": "Python [conda env:base] *",
   "language": "python",
   "name": "conda-base-py"
  },
  "language_info": {
   "codemirror_mode": {
    "name": "ipython",
    "version": 3
   },
   "file_extension": ".py",
   "mimetype": "text/x-python",
   "name": "python",
   "nbconvert_exporter": "python",
   "pygments_lexer": "ipython3",
   "version": "3.13.5"
  }
 },
 "nbformat": 4,
 "nbformat_minor": 5
}
